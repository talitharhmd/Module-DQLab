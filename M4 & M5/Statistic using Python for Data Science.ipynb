{
 "cells": [
  {
   "cell_type": "markdown",
   "metadata": {},
   "source": []
  },
  {
   "cell_type": "markdown",
   "metadata": {},
   "source": []
  },
  {
   "cell_type": "markdown",
   "metadata": {},
   "source": [
    "# Pengenalan Numpy dan Pandas"
   ]
  },
  {
   "cell_type": "code",
   "execution_count": 2,
   "metadata": {},
   "outputs": [
    {
     "name": "stdout",
     "output_type": "stream",
     "text": [
      "    ID Pelanggan     Nama  Jenis Kelamin  Pendapatan Produk   Harga  Jumlah   \\\n",
      "0              1     Arif              1      600000      A  100000        4   \n",
      "1              2     Dian              2     1200000      D  250000        4   \n",
      "2              3    Dinda              2      950000      D  250000        3   \n",
      "3              4    Fajar              1      400000      A  100000        2   \n",
      "4              5      Ika              2     1200000      D  250000        4   \n",
      "5              6    Ilham              1      800000      B  150000        4   \n",
      "6              7    Indra              1      950000      B  150000        5   \n",
      "7              8  Kartika              2     1100000      E  300000        3   \n",
      "8              9  Lestari              2      800000      E  300000        2   \n",
      "9             10      Lia              2     1700000      E  300000        5   \n",
      "10            11    Maria              2      600000      A  100000        4   \n",
      "11            12     Maya              2      950000      B  150000        5   \n",
      "12            13     Mila              2      400000      C  200000        1   \n",
      "13            14    Nurul              2     6450000      D  250000        5   \n",
      "14            15    Retno              2     1000000      C  200000        4   \n",
      "15            16     Rini              2      800000      B  150000        4   \n",
      "16            17    Rizki              1     1200000      C  200000        5   \n",
      "17            18     Sari              2      700000      D  250000        2   \n",
      "18            19     Tyas              2      600000      A  100000        4   \n",
      "19            20    Wahyu              1      800000      C  200000        3   \n",
      "\n",
      "      Total  Tingkat Kepuasan  \n",
      "0    400000                 2  \n",
      "1   1000000                 2  \n",
      "2    750000                 3  \n",
      "3    200000                 3  \n",
      "4   1000000                 2  \n",
      "5    600000                 3  \n",
      "6    750000                 1  \n",
      "7    900000                 3  \n",
      "8    600000                 1  \n",
      "9   1500000                 1  \n",
      "10   400000                 3  \n",
      "11   750000                 3  \n",
      "12   200000                 2  \n",
      "13  1250000                 1  \n",
      "14   800000                 2  \n",
      "15   600000                 1  \n",
      "16  1000000                 3  \n",
      "17   500000                 1  \n",
      "18   400000                 3  \n",
      "19   600000                 1  \n"
     ]
    }
   ],
   "source": [
    "import pandas as pd\n",
    "# memuat data bernama 'dataset_statistics.csv' dan memasukkan hasilnya ke dalam 'raw_data'\n",
    "raw_data = pd.read_csv(\"https://storage.googleapis.com/dqlab-dataset/dataset_statistic.csv\", sep=';')\n",
    "print (raw_data)"
   ]
  },
  {
   "cell_type": "markdown",
   "metadata": {},
   "source": [
    "## Inspeksi Data\n",
    "Untuk melihat keseluruhan data"
   ]
  },
  {
   "cell_type": "code",
   "execution_count": 3,
   "metadata": {},
   "outputs": [
    {
     "name": "stdout",
     "output_type": "stream",
     "text": [
      "   ID Pelanggan     Nama  Jenis Kelamin  Pendapatan Produk   Harga  Jumlah   \\\n",
      "0             1     Arif              1      600000      A  100000        4   \n",
      "1             2     Dian              2     1200000      D  250000        4   \n",
      "2             3    Dinda              2      950000      D  250000        3   \n",
      "3             4    Fajar              1      400000      A  100000        2   \n",
      "4             5      Ika              2     1200000      D  250000        4   \n",
      "5             6    Ilham              1      800000      B  150000        4   \n",
      "6             7    Indra              1      950000      B  150000        5   \n",
      "7             8  Kartika              2     1100000      E  300000        3   \n",
      "8             9  Lestari              2      800000      E  300000        2   \n",
      "9            10      Lia              2     1700000      E  300000        5   \n",
      "\n",
      "     Total  Tingkat Kepuasan  \n",
      "0   400000                 2  \n",
      "1  1000000                 2  \n",
      "2   750000                 3  \n",
      "3   200000                 3  \n",
      "4  1000000                 2  \n",
      "5   600000                 3  \n",
      "6   750000                 1  \n",
      "7   900000                 3  \n",
      "8   600000                 1  \n",
      "9  1500000                 1  \n"
     ]
    }
   ],
   "source": [
    "# melihat 10 data pada baris pertama\n",
    "print (raw_data.head(10))"
   ]
  },
  {
   "cell_type": "markdown",
   "metadata": {},
   "source": [
    "## Metode Shape\n",
    "Berapa banyak baris data dan fitur yang dataset punya?\n",
    "Untuk melihat dimensi dari data kita dapat menggunakan method shape :\n",
    "Sehingga untuk mengambil jumlah data, kita bisa mengambil nilai shape pada indeks ke 0"
   ]
  },
  {
   "cell_type": "code",
   "execution_count": 4,
   "metadata": {},
   "outputs": [
    {
     "name": "stdout",
     "output_type": "stream",
     "text": [
      "(20, 9)\n",
      "20\n"
     ]
    }
   ],
   "source": [
    "# melihat dimensi dari raw_data\n",
    "print (raw_data.shape)\n",
    "\n",
    "# mengambil jumlah data\n",
    "print (raw_data.shape[0])"
   ]
  },
  {
   "cell_type": "markdown",
   "metadata": {},
   "source": [
    "## Melihat Kolom Dalam Dataset"
   ]
  },
  {
   "cell_type": "code",
   "execution_count": 5,
   "metadata": {},
   "outputs": [
    {
     "name": "stdout",
     "output_type": "stream",
     "text": [
      "Index(['ID Pelanggan', 'Nama', 'Jenis Kelamin', 'Pendapatan', 'Produk',\n",
      "       'Harga', 'Jumlah ', 'Total', 'Tingkat Kepuasan'],\n",
      "      dtype='object')\n"
     ]
    }
   ],
   "source": [
    "print(raw_data.columns)"
   ]
  },
  {
   "cell_type": "markdown",
   "metadata": {},
   "source": [
    "## Metode Isna\n",
    "Ada berapa banyak data yang hilang dari dataset?\n",
    "\n",
    "Untuk melihat data dari dataset"
   ]
  },
  {
   "cell_type": "code",
   "execution_count": 6,
   "metadata": {},
   "outputs": [
    {
     "name": "stdout",
     "output_type": "stream",
     "text": [
      "    ID Pelanggan   Nama  Jenis Kelamin  Pendapatan  Produk  Harga  Jumlah   \\\n",
      "0          False  False          False       False   False  False    False   \n",
      "1          False  False          False       False   False  False    False   \n",
      "2          False  False          False       False   False  False    False   \n",
      "3          False  False          False       False   False  False    False   \n",
      "4          False  False          False       False   False  False    False   \n",
      "5          False  False          False       False   False  False    False   \n",
      "6          False  False          False       False   False  False    False   \n",
      "7          False  False          False       False   False  False    False   \n",
      "8          False  False          False       False   False  False    False   \n",
      "9          False  False          False       False   False  False    False   \n",
      "10         False  False          False       False   False  False    False   \n",
      "11         False  False          False       False   False  False    False   \n",
      "12         False  False          False       False   False  False    False   \n",
      "13         False  False          False       False   False  False    False   \n",
      "14         False  False          False       False   False  False    False   \n",
      "15         False  False          False       False   False  False    False   \n",
      "16         False  False          False       False   False  False    False   \n",
      "17         False  False          False       False   False  False    False   \n",
      "18         False  False          False       False   False  False    False   \n",
      "19         False  False          False       False   False  False    False   \n",
      "\n",
      "    Total  Tingkat Kepuasan  \n",
      "0   False             False  \n",
      "1   False             False  \n",
      "2   False             False  \n",
      "3   False             False  \n",
      "4   False             False  \n",
      "5   False             False  \n",
      "6   False             False  \n",
      "7   False             False  \n",
      "8   False             False  \n",
      "9   False             False  \n",
      "10  False             False  \n",
      "11  False             False  \n",
      "12  False             False  \n",
      "13  False             False  \n",
      "14  False             False  \n",
      "15  False             False  \n",
      "16  False             False  \n",
      "17  False             False  \n",
      "18  False             False  \n",
      "19  False             False  \n",
      "ID Pelanggan        0\n",
      "Nama                0\n",
      "Jenis Kelamin       0\n",
      "Pendapatan          0\n",
      "Produk              0\n",
      "Harga               0\n",
      "Jumlah              0\n",
      "Total               0\n",
      "Tingkat Kepuasan    0\n",
      "dtype: int64\n"
     ]
    }
   ],
   "source": [
    "print (raw_data.isna())\n",
    "print (raw_data.isna().sum())"
   ]
  },
  {
   "cell_type": "markdown",
   "metadata": {},
   "source": [
    "## Metode Describe\n",
    "Untuk bisa melihat ringkasan dari data misalnya rerata, jumlah, nilai maksimum-minimum dan ukuran lainnya."
   ]
  },
  {
   "cell_type": "code",
   "execution_count": 7,
   "metadata": {},
   "outputs": [
    {
     "name": "stdout",
     "output_type": "stream",
     "text": [
      "       ID Pelanggan  Jenis Kelamin    Pendapatan          Harga    Jumlah   \\\n",
      "count      20.00000      20.000000  2.000000e+01      20.000000  20.000000   \n",
      "mean       10.50000       1.700000  1.160000e+06  197500.000000   3.650000   \n",
      "std         5.91608       0.470162  1.282842e+06   69726.910912   1.182103   \n",
      "min         1.00000       1.000000  4.000000e+05  100000.000000   1.000000   \n",
      "25%         5.75000       1.000000  6.750000e+05  150000.000000   3.000000   \n",
      "50%        10.50000       2.000000  8.750000e+05  200000.000000   4.000000   \n",
      "75%        15.25000       2.000000  1.125000e+06  250000.000000   4.250000   \n",
      "max        20.00000       2.000000  6.450000e+06  300000.000000   5.000000   \n",
      "\n",
      "              Total  Tingkat Kepuasan  \n",
      "count  2.000000e+01         20.000000  \n",
      "mean   7.100000e+05          2.050000  \n",
      "std    3.338768e+05          0.887041  \n",
      "min    2.000000e+05          1.000000  \n",
      "25%    4.750000e+05          1.000000  \n",
      "50%    6.750000e+05          2.000000  \n",
      "75%    9.250000e+05          3.000000  \n",
      "max    1.500000e+06          3.000000  \n"
     ]
    },
    {
     "data": {
      "text/plain": [
       "100000"
      ]
     },
     "execution_count": 7,
     "metadata": {},
     "output_type": "execute_result"
    }
   ],
   "source": [
    "print (raw_data.describe())\n",
    "\n",
    "# Mencari nilai maksimum dari tiap kolom\n",
    "raw_data.max()\n",
    " \n",
    "# Mencari nilai maksimum dari kolom 'Harga'\n",
    "raw_data['Harga'].max()\n",
    " \n",
    "# Mencari nilai minimum dari kolom 'Harga'\n",
    "raw_data['Harga'].min()"
   ]
  },
  {
   "cell_type": "markdown",
   "metadata": {},
   "source": [
    "## Metode Sum\n",
    "Jumlah dari semua nilai pada kolom"
   ]
  },
  {
   "cell_type": "code",
   "execution_count": 8,
   "metadata": {},
   "outputs": [
    {
     "name": "stdout",
     "output_type": "stream",
     "text": [
      "ID Pelanggan                                                      210\n",
      "Nama                ArifDianDindaFajarIkaIlhamIndraKartikaLestariL...\n",
      "Jenis Kelamin                                                      34\n",
      "Pendapatan                                                   23200000\n",
      "Produk                                           ADDADBBEEEABCDCBCDAC\n",
      "Harga                                                         3950000\n",
      "Jumlah                                                             73\n",
      "Total                                                        14200000\n",
      "Tingkat Kepuasan                                                   41\n",
      "dtype: object\n"
     ]
    },
    {
     "data": {
      "text/plain": [
       "Harga          3950000\n",
       "Pendapatan    23200000\n",
       "dtype: int64"
      ]
     },
     "execution_count": 8,
     "metadata": {},
     "output_type": "execute_result"
    }
   ],
   "source": [
    "# menghitung jumlah dari semua kolom\n",
    "print (raw_data.sum())\n",
    " \n",
    "# menghitung jumlah dari semua kolom bertipe data numerik saja\n",
    "raw_data.sum(numeric_only=True)\n",
    " \n",
    "# menghitung jumlah dari kolom 'Harga' dan 'Pendapatan'\n",
    "raw_data[['Harga', 'Pendapatan']].sum()"
   ]
  },
  {
   "cell_type": "markdown",
   "metadata": {},
   "source": [
    "## Manipulasi Dataframe - Memilih Kolom dan Baris"
   ]
  },
  {
   "cell_type": "code",
   "execution_count": 9,
   "metadata": {},
   "outputs": [
    {
     "name": "stdout",
     "output_type": "stream",
     "text": [
      "0      600000\n",
      "1     1200000\n",
      "2      950000\n",
      "3      400000\n",
      "4     1200000\n",
      "5      800000\n",
      "6      950000\n",
      "7     1100000\n",
      "8      800000\n",
      "9     1700000\n",
      "10     600000\n",
      "11     950000\n",
      "12     400000\n",
      "13    6450000\n",
      "14    1000000\n",
      "15     800000\n",
      "16    1200000\n",
      "17     700000\n",
      "18     600000\n",
      "19     800000\n",
      "Name: Pendapatan, dtype: int64\n",
      "    Jenis Kelamin  Pendapatan\n",
      "0               1      600000\n",
      "1               2     1200000\n",
      "2               2      950000\n",
      "3               1      400000\n",
      "4               2     1200000\n",
      "5               1      800000\n",
      "6               1      950000\n",
      "7               2     1100000\n",
      "8               2      800000\n",
      "9               2     1700000\n",
      "10              2      600000\n",
      "11              2      950000\n",
      "12              2      400000\n",
      "13              2     6450000\n",
      "14              2     1000000\n",
      "15              2      800000\n",
      "16              1     1200000\n",
      "17              2      700000\n",
      "18              2      600000\n",
      "19              1      800000\n"
     ]
    }
   ],
   "source": [
    "# Memilih kolom 'Pendapatan' saja\n",
    "print (raw_data['Pendapatan'])\n",
    " \n",
    "# Memilih kolom 'Jenis Kelamin' dan 'Pendapatan'\n",
    "print (raw_data[['Jenis Kelamin', 'Pendapatan']])"
   ]
  },
  {
   "cell_type": "markdown",
   "metadata": {},
   "source": [
    "## Metode Loc\n",
    "Untuk memilih baris, kita dapat menggunakan [m:n] untuk mengambil baris data ke-m sampai ke-(n-1) atau bisa juga menggunakan method loc untuk pemilihan baris yang lebih spesifik."
   ]
  },
  {
   "cell_type": "code",
   "execution_count": 10,
   "metadata": {},
   "outputs": [
    {
     "name": "stdout",
     "output_type": "stream",
     "text": [
      "   ID Pelanggan     Nama  Jenis Kelamin  Pendapatan Produk   Harga  Jumlah   \\\n",
      "0             1     Arif              1      600000      A  100000        4   \n",
      "1             2     Dian              2     1200000      D  250000        4   \n",
      "2             3    Dinda              2      950000      D  250000        3   \n",
      "3             4    Fajar              1      400000      A  100000        2   \n",
      "4             5      Ika              2     1200000      D  250000        4   \n",
      "5             6    Ilham              1      800000      B  150000        4   \n",
      "6             7    Indra              1      950000      B  150000        5   \n",
      "7             8  Kartika              2     1100000      E  300000        3   \n",
      "8             9  Lestari              2      800000      E  300000        2   \n",
      "9            10      Lia              2     1700000      E  300000        5   \n",
      "\n",
      "     Total  Tingkat Kepuasan  \n",
      "0   400000                 2  \n",
      "1  1000000                 2  \n",
      "2   750000                 3  \n",
      "3   200000                 3  \n",
      "4  1000000                 2  \n",
      "5   600000                 3  \n",
      "6   750000                 1  \n",
      "7   900000                 3  \n",
      "8   600000                 1  \n",
      "9  1500000                 1  \n",
      "   ID Pelanggan   Nama  Jenis Kelamin  Pendapatan Produk   Harga  Jumlah   \\\n",
      "3             4  Fajar              1      400000      A  100000        2   \n",
      "4             5    Ika              2     1200000      D  250000        4   \n",
      "\n",
      "     Total  Tingkat Kepuasan  \n",
      "3   200000                 3  \n",
      "4  1000000                 2  \n",
      "    ID Pelanggan   Nama  Jenis Kelamin  Pendapatan Produk   Harga  Jumlah   \\\n",
      "1              2   Dian              2     1200000      D  250000        4   \n",
      "3              4  Fajar              1      400000      A  100000        2   \n",
      "10            11  Maria              2      600000      A  100000        4   \n",
      "\n",
      "      Total  Tingkat Kepuasan  \n",
      "1   1000000                 2  \n",
      "3    200000                 3  \n",
      "10   400000                 3  \n",
      "   Jenis Kelamin  Pendapatan\n",
      "1              2     1200000\n",
      "2              2      950000\n",
      "3              1      400000\n",
      "4              2     1200000\n",
      "5              1      800000\n",
      "6              1      950000\n",
      "7              2     1100000\n",
      "8              2      800000\n",
      "9              2     1700000\n",
      "     Harga  Tingkat Kepuasan\n",
      "1   250000                 2\n",
      "10  100000                 3\n",
      "15  150000                 1\n"
     ]
    }
   ],
   "source": [
    "# Mengambil data dari baris pertama (indeks 0) hingga baris ke-9 (indeks 9), yaitu sebanyak 10 baris\n",
    "print(raw_data[:10])\n",
    " \n",
    "# Mengambil data dari baris ke-4 (indeks 3) hingga baris ke-5 (indeks 4)\n",
    "print(raw_data[3:5])\n",
    " \n",
    "# Mengambil data dari baris ke-2 (indeks 1), baris ke-4 (indeks 3), dan baris ke-11 (indeks 10)\n",
    "print(raw_data.loc[[1,3,10]])\n",
    "\n",
    "# Mengambil kolom 'Jenis Kelamin' dan 'Pendapatan' dari baris ke-2 (indeks 1) hingga baris ke-10 (indeks 9)\n",
    "print(raw_data[['Jenis Kelamin', 'Pendapatan']][1:10])\n",
    " \n",
    "# Mengambil kolom 'Harga' dan 'Tingkat Kepuasan' dari baris ke-2 (indeks 1), baris ke-11 (indeks 10), dan baris ke-16 (indeks 15)\n",
    "print(raw_data[['Harga', 'Tingkat Kepuasan']].loc[[1, 10, 15]])"
   ]
  },
  {
   "cell_type": "markdown",
   "metadata": {},
   "source": [
    "# CHAPTER 3 - Ukuran Pusat"
   ]
  },
  {
   "cell_type": "markdown",
   "metadata": {},
   "source": [
    "**Ukuran Pusat (Measures of Central Tendency)**\n",
    "\n",
    "Ukuran pusat (measures of central tendency) adalah statistika deskriptif yang dapat digunakan untuk membantu kita mengidentifikasi kasus-kasus tipikal di dalam sebuah sampel atau populasi\n",
    "\n",
    "Terdapat beberapa jenis ukuran pusat yang dapat digunakan untuk menganalisa data, diantaranya:\n",
    "\n",
    "- Mean atau rerata\n",
    "- Median\n",
    "- Modus"
   ]
  },
  {
   "cell_type": "markdown",
   "metadata": {},
   "source": [
    "## Rata-rata (Mean)\n",
    "Rata-rata atau mean adalah salah satu ukuran pusat yang nilainya diperoleh dengan cara menjumlahkan semua nilai titik data yang ada lalu dibagi oleh jumlah data. \n",
    "Dimana:\n",
    "- x¯ adalah rerata\n",
    "- x1,x2,...,xn adalah titik data\n",
    "- n adalah jumlah data"
   ]
  },
  {
   "cell_type": "code",
   "execution_count": 11,
   "metadata": {},
   "outputs": [
    {
     "name": "stdout",
     "output_type": "stream",
     "text": [
      "550000.0\n",
      "550000.0\n"
     ]
    }
   ],
   "source": [
    "import numpy as np\n",
    "\n",
    "# mengambil hanya data untuk produk 'A'\n",
    "produk_A = raw_data[raw_data['Produk'] == 'A']\n",
    " \n",
    "# menghitung rerata pendapatan menggunakan method .mean pada objek pandas DataFrame\n",
    "print (produk_A['Pendapatan'].mean())\n",
    " \n",
    "# menghitung rerata pendapatan menggunakan method .mean pada objek pandas DataFrame dengan numpy\n",
    "print (np.mean(produk_A['Pendapatan']))"
   ]
  },
  {
   "cell_type": "markdown",
   "metadata": {},
   "source": [
    "## Median\n",
    "Median adalah salah satu ukuran pusat yang nilainya terletak di tengah titik data. "
   ]
  },
  {
   "cell_type": "code",
   "execution_count": 12,
   "metadata": {},
   "outputs": [
    {
     "name": "stdout",
     "output_type": "stream",
     "text": [
      "600000.0\n",
      "600000.0\n"
     ]
    }
   ],
   "source": [
    "# Hitung median dari pendapatan menggunakan pandas\n",
    "print (produk_A['Pendapatan'].median())\n",
    " \n",
    "# Hitung median dari pendapatan menggunakan numpy\n",
    "print (np.median(produk_A['Pendapatan']))"
   ]
  },
  {
   "cell_type": "markdown",
   "metadata": {},
   "source": [
    "## Modus\n",
    "Modus didefinisikan sebagai data yang memiliki frekuensi kemunculan terbanyak/terbesar."
   ]
  },
  {
   "cell_type": "code",
   "execution_count": 13,
   "metadata": {},
   "outputs": [
    {
     "name": "stdout",
     "output_type": "stream",
     "text": [
      "D    5\n",
      "A    4\n",
      "B    4\n",
      "C    4\n",
      "E    3\n",
      "Name: Produk, dtype: int64\n"
     ]
    }
   ],
   "source": [
    "# Melihat jumlah dari masing-masing produk\n",
    "print (raw_data['Produk'].value_counts())"
   ]
  },
  {
   "cell_type": "markdown",
   "metadata": {},
   "source": [
    "## Kuantil\n",
    "Kuantil adalah nilai-nilai data yang membagi data yang telah diurutkan sebelumnya menjadi beberapa bagian yang sama besar ukurannya."
   ]
  },
  {
   "cell_type": "code",
   "execution_count": 14,
   "metadata": {},
   "outputs": [
    {
     "name": "stdout",
     "output_type": "stream",
     "text": [
      "875000.0\n",
      "875000.0\n"
     ]
    }
   ],
   "source": [
    "# mencari median atau 50% dari data menggunakan pandas\n",
    "print(raw_data['Pendapatan'].quantile(q=0.5))\n",
    " \n",
    "# mencari median atau 50% dari data menggunakan numpy\n",
    "print(np.quantile(raw_data['Pendapatan'], q=0.5))"
   ]
  },
  {
   "cell_type": "markdown",
   "metadata": {},
   "source": [
    "## Agregasi Data dengan method .agg()"
   ]
  },
  {
   "cell_type": "code",
   "execution_count": 15,
   "metadata": {},
   "outputs": [
    {
     "name": "stdout",
     "output_type": "stream",
     "text": [
      "        Pendapatan     Harga\n",
      "mean     1160000.0  197500.0\n",
      "median    875000.0  200000.0\n",
      "       Pendapatan                Harga          \n",
      "             mean     median      mean    median\n",
      "Produk                                          \n",
      "A        550000.0   600000.0  100000.0  100000.0\n",
      "B        875000.0   875000.0  150000.0  150000.0\n",
      "C        850000.0   900000.0  200000.0  200000.0\n",
      "D       2100000.0  1200000.0  250000.0  250000.0\n",
      "E       1200000.0  1100000.0  300000.0  300000.0\n"
     ]
    }
   ],
   "source": [
    "# menghitung rerata dan median 'Pendapatan' dan 'Harga'\n",
    "print(raw_data[['Pendapatan', 'Harga']].agg([np.mean, np.median]))\n",
    " \n",
    "# menghitung rerata dan median Pendapatan dan Harga dari tiap produk\n",
    "print(raw_data[['Pendapatan', 'Harga', 'Produk']].groupby('Produk').agg([np.mean, np.median]))"
   ]
  },
  {
   "cell_type": "markdown",
   "metadata": {},
   "source": [
    "# CHAPTER 4 - Ukuran Sebar"
   ]
  },
  {
   "cell_type": "markdown",
   "metadata": {},
   "source": [
    "**Ukuran Sebaran (Measures of Dispersion)**\n",
    "\n",
    "Ukuran sebaran (measure of dispersion) adalah statistika deskriptif yang digunakan untuk membantu kita memahami sebaran titik data di dalam sebuah sampel ataupun populasi.\n",
    "\n",
    "Terdapat beberapa ukuran sebaran yang biasanya digunakan tergantung pada jenis atau tipe datanya, yaitu:\n",
    "- Tipe Data Nominal dan Ordinal\n",
    "- Proporsi Kategori (Categorical Proportion)\n",
    "- Persen Proporsi (Percent Proportion)\n",
    "- Rasio Variasi (Variation Ratio)\n",
    "- Tipe Data Interval dan Rasio\n",
    "- Rentang (Range)\n",
    "- Variansi (Variance)\n",
    "- Deviasi Baku (Standard Deviation)\n"
   ]
  },
  {
   "cell_type": "markdown",
   "metadata": {},
   "source": [
    "## Proporsi Kategori\n",
    "Proporsi kategori adalah ukuran sebaran yang paling sederhana dari ukuran sebaran pada data nomisal dan ordinal. "
   ]
  },
  {
   "cell_type": "code",
   "execution_count": 16,
   "metadata": {},
   "outputs": [
    {
     "name": "stdout",
     "output_type": "stream",
     "text": [
      "D    0.25\n",
      "A    0.20\n",
      "B    0.20\n",
      "C    0.20\n",
      "E    0.15\n",
      "Name: Produk, dtype: float64\n"
     ]
    }
   ],
   "source": [
    "# cari proporsi tiap Produk\n",
    "print (raw_data['Produk'].value_counts()/raw_data.shape[0])"
   ]
  },
  {
   "cell_type": "markdown",
   "metadata": {},
   "source": [
    "## Ukuran Sebaran pada Data Interval dan Rasio\n",
    "Rentang (range)\n",
    "Rentang adalah jarak antara nilai maksimum dengan nilai minimum. Semakin besar jarang antara nilai maksimum dan minimum semakin besar pula sebaran datanya."
   ]
  },
  {
   "cell_type": "code",
   "execution_count": 17,
   "metadata": {},
   "outputs": [
    {
     "name": "stdout",
     "output_type": "stream",
     "text": [
      "6050000\n"
     ]
    }
   ],
   "source": [
    "# Cari nilai rentang dari kolom 'Pendapatan'\n",
    "print (raw_data['Pendapatan'].max() - raw_data['Pendapatan'].min())"
   ]
  },
  {
   "cell_type": "markdown",
   "metadata": {},
   "source": [
    "## Variansi\n",
    "Variansi adalah ukuran sebaran pusat yang diperoleh dengan cara menghitung jarak antara tiap titik data pada sampel atau populasi dengan nilai mean."
   ]
  },
  {
   "cell_type": "code",
   "execution_count": 18,
   "metadata": {},
   "outputs": [
    {
     "name": "stdout",
     "output_type": "stream",
     "text": [
      "1645684210526.3157\n",
      "1563400000000.0\n",
      "1563400000000.0\n"
     ]
    }
   ],
   "source": [
    "# menghitung variansi Pendapatan menggunakan method .var() dari pandas\n",
    "print (raw_data['Pendapatan'].var())\n",
    " \n",
    "# menghitung variansi Pendapatan menggunakan method .var() dari numpy\n",
    "print (np.var(raw_data['Pendapatan']))\n",
    "\n",
    "# mengatur variansi populasi dengan method `.var()` dari pandas\n",
    "print (raw_data['Pendapatan'].var(ddof=0))"
   ]
  },
  {
   "cell_type": "markdown",
   "metadata": {},
   "source": [
    "## Deviasi Baku (Standard Deviation)\n",
    "Deviasi baku adalah ukuran sebaran pusat yang diperoleh dengan cara menarik akar kuadrat dari hasil perhitungan variansi. Hal ini dilakukan karena nilai variansi umumnya memiliki nilai yang lebih besar daripada nilai aslinya sebagai efek dari pengkuadratan dan ini menjadikan variansi sulit untuk diinterpretasikan."
   ]
  },
  {
   "cell_type": "code",
   "execution_count": 19,
   "metadata": {},
   "outputs": [
    {
     "name": "stdout",
     "output_type": "stream",
     "text": [
      "1282842.2391417876\n",
      "1282842.2391417876\n"
     ]
    }
   ],
   "source": [
    "# menghitung deviasi baku sampel pendapatan menggunakan method std() dari pandas\n",
    "print (raw_data['Pendapatan'].std())\n",
    " \n",
    "# menghitung deviasi baku sampel pendapatan menggunakan method std() dari numpy\n",
    "print (np.std(raw_data['Pendapatan'], ddof = 1))"
   ]
  },
  {
   "cell_type": "markdown",
   "metadata": {},
   "source": [
    "# CHAPTER 5 - Korelasi"
   ]
  },
  {
   "cell_type": "markdown",
   "metadata": {},
   "source": [
    "**Korelasi**\n",
    "\n",
    "Korelasi adalah salah satu metode statistika yang dapat digunakan untuk mengukur seberapa besar hubungan antara satu variabel dengan variabel lainnya. Sebagai contoh, misalnya mencari hubungan antara tinggi badan dengan berat badan, mencari hubungan antara gender dengan penghasilan dan masih banyak aplikasi penggunaan korelasi.\n",
    "\n",
    "Terdapat beberapa metode yang dapat digunakan untuk menghitung korelasi antara sepasang variabel tergantung tipe dari sepasang variabel tersebut. Diantaranya adalah:\n",
    "- Korelasi Pearson\n",
    "- Korelasi Spearman\n",
    "- Korelasi Kendall"
   ]
  },
  {
   "cell_type": "markdown",
   "metadata": {},
   "source": [
    "## Korelasi Pearson\n",
    "Korelasi Pearson atau sering juga disebut sebagai Pearson's product moment correlation adalah pengukuran korelasi parametrik yang menghasilkan koefisien korelasi. Koefisien korelasi ini dapat digunakan untuk mengukur kekuatan hubungan atau asosiasi linier antara dua variabel. Artinya jika hubungan kedua variabel tidak linier maka koefisien korelasi Pearson tidak dapat digunakan untuk mengukur kekuatan hubungan antara kedua variabel.\n",
    "\n",
    "Selain itu nilai dari koefisien pearson dapat digunakan untuk mengukur arah dari hubungan tersebut: positif atau negatif. Hubungan antar variabel dikatakan positif jika nilai salah satu variabel naik maka nilai variabel lainnya juga naik. Sebaliknya, hubungan antar variabel dikatakan negatif jika nilai salah satu variabel naik maka nilai variabelnya turun. Gambar berikut dapat menjelaskan maksud dari kekuatan dan arah dari korelasi antar kedua variabel.\n",
    "\n",
    "Beberapa asumsi yang harus dipenuhi untuk menggunakan korelasi Pearson diantaranya adalah:\n",
    "1. Nilai berskala interval/rasio\n",
    "2. Terdapat hubungan linier antara kedua variabel, yaitu kita dapat \n",
    "3. menggambarkan hubungan kedua variabel sebagai garis lurus.\n",
    "4. Kedua variabel berdistribusi normal\n",
    "5. Homoskedastis, atau data berdistribusi seragam dalam garis regresi\n",
    "6. Secara matematis, korelasi pearson dapat dirumuskan sebagai berikut:"
   ]
  },
  {
   "cell_type": "markdown",
   "metadata": {},
   "source": [
    "## Korelasi Spearman\n",
    "Korelasi Spearman atau sering juga disebut sebagai Spearman's rank correlation adalah pengukuran korelasi non-parametrik. Artinya kita mencoba mengukur hubungan antara kedua variabel tanpa menghiraukan asumsi seperti distribusi dari kedua variabel dan asumsi lainnya. Secara kriteria memiliki kemiripan dengan korelasi Pearson walau korelasi Spearman bisa digunakan untuk data bertipe ordinal. Perbedaannya hanya terletak pada pengubahan data dalam bentuk ranking sebelum menghitung nilai korelasinya.\n",
    "\n",
    "Secara matematis, korelasi Spearman dapat dihitung menggunakan rumus berikut:\n",
    "\n",
    "Dimana:\n",
    "- ρ adalah nilai korelasi Spearman\n",
    "- di adalah nilai beda antara kedua variabel\n",
    "- n adalah jumlah data"
   ]
  },
  {
   "cell_type": "markdown",
   "metadata": {},
   "source": [
    "## Korelasi Kendall\n",
    "Korelasi Kendall atau sering juga disebut juga sebagai Kendall's tank correlation atau korelasi Tau (τ) adalah pengukuran korelasi non-parametrik."
   ]
  },
  {
   "cell_type": "markdown",
   "metadata": {},
   "source": [
    "## Menghitung Korelasi\n",
    "Untuk menghitung korelasi antara kedua variabel, kita dapat menggunakan method .corr() dari pandas"
   ]
  },
  {
   "cell_type": "code",
   "execution_count": 20,
   "metadata": {},
   "outputs": [
    {
     "name": "stdout",
     "output_type": "stream",
     "text": [
      "                  ID Pelanggan  Jenis Kelamin  Pendapatan     Harga   Jumlah   \\\n",
      "ID Pelanggan          1.000000       0.151375    0.110958 -0.028707  0.011289   \n",
      "Jenis Kelamin         0.151375       1.000000    0.192849  0.457555 -0.104168   \n",
      "Pendapatan            0.110958       0.192849    1.000000  0.322443  0.399825   \n",
      "Harga                -0.028707       0.457555    0.322443  1.000000 -0.138883   \n",
      "Jumlah                0.011289      -0.104168    0.399825 -0.138883  1.000000   \n",
      "Total                -0.039968       0.238051    0.592044  0.645455  0.636097   \n",
      "Tingkat Kepuasan     -0.245717      -0.088339   -0.312663 -0.380798  0.017568   \n",
      "\n",
      "                     Total  Tingkat Kepuasan  \n",
      "ID Pelanggan     -0.039968         -0.245717  \n",
      "Jenis Kelamin     0.238051         -0.088339  \n",
      "Pendapatan        0.592044         -0.312663  \n",
      "Harga             0.645455         -0.380798  \n",
      "Jumlah            0.636097          0.017568  \n",
      "Total             1.000000         -0.268345  \n",
      "Tingkat Kepuasan -0.268345          1.000000  \n",
      "                  ID Pelanggan  Jenis Kelamin  Pendapatan     Harga   Jumlah   \\\n",
      "ID Pelanggan          1.000000       0.126650   -0.054998 -0.005753  0.024016   \n",
      "Jenis Kelamin         0.126650       1.000000    0.190245  0.415339 -0.090299   \n",
      "Pendapatan           -0.054998       0.190245    1.000000  0.523053  0.501925   \n",
      "Harga                -0.005753       0.415339    0.523053  1.000000 -0.098450   \n",
      "Jumlah                0.024016      -0.090299    0.501925 -0.098450  1.000000   \n",
      "Total                -0.065998       0.190245    0.988506  0.535078  0.501925   \n",
      "Tingkat Kepuasan     -0.183817      -0.085796   -0.165588 -0.325659 -0.028923   \n",
      "\n",
      "                     Total  Tingkat Kepuasan  \n",
      "ID Pelanggan     -0.065998         -0.183817  \n",
      "Jenis Kelamin     0.190245         -0.085796  \n",
      "Pendapatan        0.988506         -0.165588  \n",
      "Harga             0.535078         -0.325659  \n",
      "Jumlah            0.501925         -0.028923  \n",
      "Total             1.000000         -0.165588  \n",
      "Tingkat Kepuasan -0.165588          1.000000  \n",
      "                  ID Pelanggan  Jenis Kelamin  Pendapatan     Harga   Jumlah   \\\n",
      "ID Pelanggan          1.000000       0.151375   -0.063711 -0.039149  0.046356   \n",
      "Jenis Kelamin         0.151375       1.000000    0.219508  0.463635 -0.098864   \n",
      "Pendapatan           -0.063711       0.219508    1.000000  0.640000  0.607110   \n",
      "Harga                -0.039149       0.463635    0.640000  1.000000 -0.130749   \n",
      "Jumlah                0.046356      -0.098864    0.607110 -0.130749  1.000000   \n",
      "Total                -0.069779       0.219508    0.998470  0.646194  0.607110   \n",
      "Tingkat Kepuasan     -0.238890      -0.090784   -0.192463 -0.378933 -0.023874   \n",
      "\n",
      "                     Total  Tingkat Kepuasan  \n",
      "ID Pelanggan     -0.069779         -0.238890  \n",
      "Jenis Kelamin     0.219508         -0.090784  \n",
      "Pendapatan        0.998470         -0.192463  \n",
      "Harga             0.646194         -0.378933  \n",
      "Jumlah            0.607110         -0.023874  \n",
      "Total             1.000000         -0.192463  \n",
      "Tingkat Kepuasan -0.192463          1.000000  \n"
     ]
    }
   ],
   "source": [
    "# menghitung korelasi dari setiap pasang variabel pada raw_data\n",
    "print (raw_data.corr())\n",
    "\n",
    "# mencari korelasi 'kendall' untuk tiap pasang variabel\n",
    "print (raw_data.corr(method='kendall'))\n",
    " \n",
    "# mencari korelasi 'spearman' untuk tiap pasang variabel\n",
    "print (raw_data.corr(method='spearman'))"
   ]
  },
  {
   "cell_type": "markdown",
   "metadata": {},
   "source": [
    "Interpretasi Nilai Korelasi dan Kaitannya dengan Kausalitas\n",
    "Perhatikan nilai korelasi Pearson dari raw_data berikut:\n",
    "\n",
    "Beberapa pasang variabel memiliki nilai korelasi yang positif maupun negatif. Selain itu terdapat nilai yang sangat kecil hingga mendekati nol, namun ada juga yang cukup besar diatas 0.5, misalnya korelasi antara 'Jumlah' dan 'Pendapatan'. Besar kecilnya suatu nilai korelasi dari sepasang variabel menandakan seberapa kuat hubungan linier antara kedua variabel tersebut. Sebagai acuan untuk mengukur seberapa kuat korelasi sepasang variabel, \n",
    "\n",
    "Dapat menggunakan ukuran berikut:\n",
    "- 0 < [r] < 0.49: Hubungan Lemah\n",
    "- 0.50 < [r] < 0.79: Hubungan Sedang\n",
    "- 0.80 < [r] < 1: Hubungan Kuat\n",
    "\n",
    "Berdasarkan kriteria di atas, dapat menilai bahwa hubungan antara variabel 'Total' dan 'Jumlah' hubungannya sedang dan positif (r = 0.636097) sedangkan hubungan antara 'Pendapatan' dan 'Tingkat Kepuasan' hubungannya lemah dan negatif (r = -0.088339).\n",
    "\n",
    "Namun, perlu diperhatikan bahwa walaupun  dapat menilai kuat hubungan antara kedua variabel, namun tidak bisa menentukan arah dari hubugan tersebut. Sebagai contoh, walaupun antara variabel 'Total' dan 'Jumlah' memiliki hubungan yang sedang, tidak berarti bisa mengetahui apakah kenaikan nilai 'Total' berefek positif terhadap 'Jumlah' atau sebaliknya."
   ]
  },
  {
   "cell_type": "markdown",
   "metadata": {},
   "source": [
    "# CHAPTER 6 - Data Visualisasi"
   ]
  },
  {
   "cell_type": "markdown",
   "metadata": {},
   "source": [
    "## Diagram Pencar (Scatter Plot)"
   ]
  },
  {
   "cell_type": "code",
   "execution_count": 21,
   "metadata": {},
   "outputs": [
    {
     "name": "stdout",
     "output_type": "stream",
     "text": [
      "    ID Pelanggan     Nama  Jenis Kelamin  Pendapatan Produk   Harga  Jumlah   \\\n",
      "0              1     Arif              1      600000      A  100000        4   \n",
      "1              2     Dian              2     1200000      D  250000        4   \n",
      "2              3    Dinda              2      950000      D  250000        3   \n",
      "3              4    Fajar              1      400000      A  100000        2   \n",
      "4              5      Ika              2     1200000      D  250000        4   \n",
      "5              6    Ilham              1      800000      B  150000        4   \n",
      "6              7    Indra              1      950000      B  150000        5   \n",
      "7              8  Kartika              2     1100000      E  300000        3   \n",
      "8              9  Lestari              2      800000      E  300000        2   \n",
      "9             10      Lia              2     1700000      E  300000        5   \n",
      "10            11    Maria              2      600000      A  100000        4   \n",
      "11            12     Maya              2      950000      B  150000        5   \n",
      "12            13     Mila              2      400000      C  200000        1   \n",
      "13            14    Nurul              2     6450000      D  250000        5   \n",
      "14            15    Retno              2     1000000      C  200000        4   \n",
      "15            16     Rini              2      800000      B  150000        4   \n",
      "16            17    Rizki              1     1200000      C  200000        5   \n",
      "17            18     Sari              2      700000      D  250000        2   \n",
      "18            19     Tyas              2      600000      A  100000        4   \n",
      "19            20    Wahyu              1      800000      C  200000        3   \n",
      "\n",
      "      Total  Tingkat Kepuasan  \n",
      "0    400000                 2  \n",
      "1   1000000                 2  \n",
      "2    750000                 3  \n",
      "3    200000                 3  \n",
      "4   1000000                 2  \n",
      "5    600000                 3  \n",
      "6    750000                 1  \n",
      "7    900000                 3  \n",
      "8    600000                 1  \n",
      "9   1500000                 1  \n",
      "10   400000                 3  \n",
      "11   750000                 3  \n",
      "12   200000                 2  \n",
      "13  1250000                 1  \n",
      "14   800000                 2  \n",
      "15   600000                 1  \n",
      "16  1000000                 3  \n",
      "17   500000                 1  \n",
      "18   400000                 3  \n",
      "19   600000                 1  \n"
     ]
    },
    {
     "data": {
      "text/plain": [
       "<Figure size 640x480 with 0 Axes>"
      ]
     },
     "metadata": {},
     "output_type": "display_data"
    },
    {
     "data": {
      "text/plain": [
       "<Figure size 640x480 with 0 Axes>"
      ]
     },
     "metadata": {},
     "output_type": "display_data"
    },
    {
     "data": {
      "image/png": "[encoded data removed]",
      "text/plain": [
       "<Figure size 640x480 with 1 Axes>"
      ]
     },
     "metadata": {},
     "output_type": "display_data"
    },
    {
     "data": {
      "image/png": "[encoded data removed]",
      "text/plain": [
       "<Figure size 640x480 with 1 Axes>"
      ]
     },
     "metadata": {},
     "output_type": "display_data"
    }
   ],
   "source": [
    "import numpy as np\n",
    "import pandas as pd\n",
    "import matplotlib.pyplot as plt\n",
    "plt.clf()\n",
    "\n",
    "## mengambil data contoh\n",
    "raw_data = pd.read_csv(\"https://storage.googleapis.com/dqlab-dataset/dataset_statistic.csv\", sep=';')\n",
    "\n",
    "## melihat isi dari data\n",
    "print(raw_data)\n",
    "\n",
    "plt.figure()\n",
    "# visualisasi diagram pencar untuk variabel 'Pendapatan' dan 'Total' menggunakan 'plot.scatter' dari pandas\n",
    "raw_data.plot.scatter(x='Pendapatan', y='Total')\n",
    "plt.title('plot.scatter dari pandas', size=14)\n",
    "plt.tight_layout()\n",
    "plt.show()\n",
    "\n",
    "# visualisasi diagram pencar untuk variabel 'Pendapatan' dan 'Total' menggunakan 'plt.scatter' dari matplotlib\n",
    "plt.scatter(x=raw_data['Pendapatan'], y=raw_data['Total'])\n",
    "plt.title('plt.scatter dari matplotlib', size=14)\n",
    "plt.xlabel('Pendapatan')\n",
    "plt.ylabel('Total')\n",
    "plt.show()\n"
   ]
  },
  {
   "cell_type": "code",
   "execution_count": 23,
   "metadata": {},
   "outputs": [
    {
     "data": {
      "image/png": "[encoded data removed]",
      "text/plain": [
       "<Figure size 640x480 with 1 Axes>"
      ]
     },
     "metadata": {},
     "output_type": "display_data"
    }
   ],
   "source": [
    "# visualisasi diagram pencar untuk variabel 'Pendapatan' dan 'Total' menggunakan 'plt.scatter' dari matplotlib.pyplot\n",
    "plt.scatter(x='Pendapatan', y='Total', data=raw_data)\n",
    "plt.xlabel('Pendapatan')\n",
    "plt.ylabel('Total')\n",
    "plt.tight_layout()\n",
    "plt.show()"
   ]
  },
  {
   "cell_type": "markdown",
   "metadata": {},
   "source": [
    "## Histogram\n",
    "Histogram adalah salah satu visualisasi yang digunakan untuk melihat bentuk dari distribusi data. Visualisasi ini sangat penting karena dapat menggambarkan apakah suatu data memiliki distribusi tertentu dan apakah data perlu dirubah dahulu untuk memenuhi suatu asumsi, terutama saat melakukan pemodelan liner yang akan dibahas nanti.\n",
    "\n",
    "Terdapat beberapa pola dari histogram yang biasanya sering muncul ketika menganalisa data yang dapat dilihat pada gambar berikut :\n",
    "\n",
    " \n",
    "\n",
    "\n",
    "\n",
    "Sumber Gambar: https://www.dummies.com\n",
    "\n",
    " \n",
    "\n",
    "Suatu distribusi disebut memiliki skewness positif jika ekor dari distribusi memanjang ke kiri. Kebalikannya, suatu distribusi disebut memiliki skewness negatif jika ekor dari distribusi memanjang ke kanan. Hal ini terjadi karena nilai mean, median dan modus tidak terletak di satu titik sebagaimana yang dapat diamati pada gambar berikut :\n",
    "\n",
    " "
   ]
  },
  {
   "cell_type": "markdown",
   "metadata": {},
   "source": [
    "# CHAPTER 7 - Tranformasi"
   ]
  },
  {
   "cell_type": "code",
   "execution_count": null,
   "metadata": {},
   "outputs": [],
   "source": []
  },
  {
   "cell_type": "code",
   "execution_count": null,
   "metadata": {},
   "outputs": [],
   "source": []
  },
  {
   "cell_type": "markdown",
   "metadata": {},
   "source": [
    "# CHAPTER 8 - Data Visualisasi Part 2"
   ]
  },
  {
   "cell_type": "code",
   "execution_count": null,
   "metadata": {},
   "outputs": [],
   "source": []
  },
  {
   "cell_type": "code",
   "execution_count": null,
   "metadata": {},
   "outputs": [],
   "source": []
  },
  {
   "cell_type": "markdown",
   "metadata": {},
   "source": [
    "# CHAPTER 9 - Regresi Linier Sederhana"
   ]
  },
  {
   "cell_type": "code",
   "execution_count": null,
   "metadata": {},
   "outputs": [],
   "source": []
  }
 ],
 "metadata": {
  "kernelspec": {
   "display_name": "base",
   "language": "python",
   "name": "python3"
  },
  "language_info": {
   "codemirror_mode": {
    "name": "ipython",
    "version": 3
   },
   "file_extension": ".py",
   "mimetype": "text/x-python",
   "name": "python",
   "nbconvert_exporter": "python",
   "pygments_lexer": "ipython3",
   "version": "3.9.13"
  }
 },
 "nbformat": 4,
 "nbformat_minor": 2
}
