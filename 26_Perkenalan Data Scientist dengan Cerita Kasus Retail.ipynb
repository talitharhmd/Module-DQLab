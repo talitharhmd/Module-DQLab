{
 "cells": [
  {
   "cell_type": "markdown",
   "metadata": {},
   "source": []
  },
  {
   "cell_type": "markdown",
   "metadata": {},
   "source": [
    "Perbedaan Data Science, Data Mining, dan Machine Learning\n",
    "Data science melibatkan data mining dan machine learning. Selain itu, data science menggabungkan ilmu matematika dan statistika dengan ilmu komputer untuk tujuan analisis data.\n",
    "\n",
    "Hal tersebut dapat diaplikasikan dengan algoritma tertentu, untuk memperoleh data (data mining) dan mendapatkan pola data serta dapat melakukan prediksi secara otomatis (machine learning). Jadi data mining dan machine learning sebenarnya adalah bagian dari data science.\n",
    "\n",
    "Dalam penerapannya, data science memerlukan beberapa kemampuan berikut:\n",
    "Matematika Statistik\n",
    "Pengolahan data (mengubah data menjadi format yang cocok untuk diproses machine learning, misalnya melakukan tokenisasi, normalisasi, mengubah format data)\n",
    "Analisis dan visualisasi data\n",
    "Computer Science (IT)\n",
    "Pemrograman (misalnya bahasa R, Python, dan lainnya)\n",
    "Pemahaman database dan query\n",
    "Pemahaman masalah terkait bisnis dan bagaimana data bisa digunakan sebagai solusi\n",
    " \n",
    "Selain itu, data science juga melibatkan prinsip, proses, dan teknik untuk memahami fenomena melalui analisis data (secara otomatis). Data science dapat digunakan untuk meningkatkan pengambilan keputusan, terutama pengambilan keputusan berdasarkan data (Data-driven decision-making atau DDD). DDD mengacu pada praktik mendasarkan keputusan pada analisis data, bukan murni pada intuisi."
   ]
  },
  {
   "cell_type": "code",
   "execution_count": null,
   "metadata": {},
   "outputs": [],
   "source": []
  }
 ],
 "metadata": {
  "language_info": {
   "name": "python"
  }
 },
 "nbformat": 4,
 "nbformat_minor": 2
}
